{
 "cells": [
  {
   "cell_type": "code",
   "execution_count": null,
   "id": "initial_id",
   "metadata": {
    "collapsed": true
   },
   "outputs": [],
   "source": [
    "import os\n",
    "import matplotlib.pyplot as plt\n",
    "import numpy as np\n",
    "from matplotlib import cm\n",
    "from skimage import  io, feature"
   ]
  },
  {
   "cell_type": "markdown",
   "source": [
    "## Load file folder"
   ],
   "metadata": {
    "collapsed": false
   },
   "id": "a801fe80ca78e0d3"
  },
  {
   "cell_type": "code",
   "execution_count": null,
   "outputs": [],
   "source": [
    "def get_filelist(directory):\n",
    "    filelist = []\n",
    "\n",
    "    for home, dirs, files in os.walk(directory):\n",
    "\n",
    "        for file in files:\n",
    "            filelist.append(os.path.join(home, file))\n",
    "\n",
    "    return filelist"
   ],
   "metadata": {
    "collapsed": false
   },
   "id": "bdb4565bcd785b7c"
  },
  {
   "cell_type": "markdown",
   "source": [
    "## Get image list and image name"
   ],
   "metadata": {
    "collapsed": false
   },
   "id": "c2402cb1bf4e9571"
  },
  {
   "cell_type": "code",
   "execution_count": null,
   "outputs": [],
   "source": [
    "def get_imagelist(directory):\n",
    "    filelist = []\n",
    "    imgList = []\n",
    "    imgName = []\n",
    "\n",
    "    for home, dirs, files in os.walk(directory):\n",
    "\n",
    "        for file in files:\n",
    "            filelist.append(os.path.join(home, file))\n",
    "            imgName.append(file)\n",
    "    for i in range(len(filelist)):\n",
    "        filetype = os.path.splitext(filelist[i])[-1]\n",
    "        if filetype == '.txt':\n",
    "            if i == 0:\n",
    "                temp = np.zeros((200, 200))\n",
    "            else:\n",
    "                temp = np.zeros(np.shape(imgList[0]))\n",
    "            txtfile = np.loadtxt(filelist[i]).astype(np.int64)\n",
    "            for nx in range(np.shape(txtfile)[0]):\n",
    "                for ny in range(np.shape(txtfile)[1]):\n",
    "                    temp[nx][ny] = int(txtfile[nx][ny])\n",
    "            imgList.append(temp)\n",
    "        else:\n",
    "            imgList.append(np.array(io.imread(filelist[i])))\n",
    "    return imgList, imgName"
   ],
   "metadata": {
    "collapsed": false
   },
   "id": "cdb5d5b73a3f2618"
  },
  {
   "cell_type": "markdown",
   "source": [
    "## Load strain map folders and get image lists"
   ],
   "metadata": {
    "collapsed": false
   },
   "id": "b0e32b04114ee8cc"
  },
  {
   "cell_type": "code",
   "execution_count": null,
   "outputs": [],
   "source": [
    "data_folder = './data_folder'\n",
    "Folderlist = []\n",
    "Foldername = []\n",
    "\n",
    "for home, dirs, files in os.walk(data_folder):\n",
    "    for dir in dirs:\n",
    "        Folderlist.append(os.path.join(home, dir))\n",
    "        Foldername.append(dir)\n",
    "print(Folderlist)\n",
    "print(Foldername)\n",
    "# imgList [0] -> Mask, [1] -> diffraction image, [2] -> d-spacing strain map, [3] -> z-bending strain map, [4] -> clustering map. \n",
    "num_samples = len(Folderlist)\n",
    "print(num_samples)"
   ],
   "metadata": {
    "collapsed": false
   },
   "id": "97484ca937371f0d"
  },
  {
   "cell_type": "markdown",
   "source": [
    "## Rocking curve angle of every LiCoO2 particles"
   ],
   "metadata": {
    "collapsed": false
   },
   "id": "db0d8a4c3ab7f8de"
  },
  {
   "cell_type": "code",
   "execution_count": null,
   "outputs": [],
   "source": [
    "two_theta_list = [\n",
    "    np.linspace(10.1, 12.1, 21),\n",
    "    np.linspace(-27.4, -23.5, 40),\n",
    "    np.linspace(-23.8, -19.8, 41),\n",
    "    np.linspace(-27, -23, 41),\n",
    "    np.linspace(-39.7, -37.7, 21),\n",
    "    np.linspace(-4.7, -4.26, 23),\n",
    "    np.linspace(-7.5, -5.5, 21),\n",
    "    np.linspace(-22.55, -19.25, 34)\n",
    "]"
   ],
   "metadata": {
    "collapsed": false
   },
   "id": "4efd6b32ed5493b"
  },
  {
   "cell_type": "markdown",
   "source": [
    "## Rocking curves of domain and boundary regions"
   ],
   "metadata": {
    "collapsed": false
   },
   "id": "35f244fc18719e5"
  },
  {
   "cell_type": "code",
   "execution_count": null,
   "outputs": [],
   "source": [
    "fig, axs = plt.subplots(nrows=2, ncols=4, figsize=(24, 6), sharex=True)\n",
    "\n",
    "for i in range(0, num_samples):\n",
    "    imgList, imgName = get_imagelist(Folderlist[i])\n",
    "    # get dim\n",
    "    dim_z, dim_x, dim_y = imgList[1].shape\n",
    "    # count cluster label number\n",
    "    cluster_number = int(np.max(imgList[4]))\n",
    "    label_number = cluster_number + 1\n",
    "    roi_profile_list = [[] for i in range(cluster_number)]\n",
    "    domain_boundary_profile_list = [[], []]\n",
    "    \n",
    "    # plot all average rocking curves of every domains\n",
    "    cmap = cm.get_cmap(\"RdBu\", cluster_number)\n",
    "    colors = cmap(np.linspace(0, 1, cluster_number))\n",
    "    \n",
    "    for idx in range(1, label_number):\n",
    "        label_roi = np.zeros_like(imgList[2])\n",
    "        for nz in range(dim_z):\n",
    "            label_roi[nz - 1][np.nonzero(imgList[4] == idx)] = imgList[1][nz - 1][np.nonzero(imgList[4] == idx)]\n",
    "            avg_z = np.sum(label_roi[nz - 1]) / np.count_nonzero(imgList[4] == idx)\n",
    "            roi_profile_list[idx - 1].append(avg_z)\n",
    "        axs[i // 4, i % 4].plot(two_theta_list[i], roi_profile_list[idx - 1], color=colors[idx - 1])\n",
    "        axs[i // 4, i % 4].set_yticks([])"
   ],
   "metadata": {
    "collapsed": false
   },
   "id": "4bfadd7cb7114fd"
  },
  {
   "cell_type": "code",
   "execution_count": null,
   "outputs": [],
   "source": [
    "fig, axs = plt.subplots(nrows=2, ncols=4, figsize=(24, 6), sharex=True)\n",
    "\n",
    "for idx in range(1, label_number):\n",
    "    domain_roi = np.zeros_like(imgList[2])\n",
    "    boundary_roi = np.zeros_like(imgList[2])\n",
    "    \n",
    "    domain_mask = np.zeros_like(imgList[0])\n",
    "    boundary_mask = np.zeros_like(imgList[0])\n",
    "    \n",
    "    # detect boundary region using canny\n",
    "    domain_boundary = feature.canny(imgList[4], sigma=1)\n",
    "    particle_boundary = feature.canny(imgList[0], sigma=0.1)\n",
    "    \n",
    "    for nx in range(np.shape(imgList[0])[0]):\n",
    "        for ny in range(np.shape(imgList[0])[1]):\n",
    "            if imgList[-1][nx][ny] != 0 and domain_boundary[nx][ny] == 0 and particle_boundary[nx][ny] == 0 and \\\n",
    "                    imgList[0][nx][ny] != 0:\n",
    "                domain_mask[nx][ny] = 1\n",
    "            if domain_boundary[nx][ny] != 0 and imgList[0][nx][ny] != 0 and imgList[-1][nx][ny] != 0:\n",
    "                boundary_mask[nx][ny] = 1\n",
    "                \n",
    "    for nz in range(dim_z):\n",
    "        domain_roi[nz - 1][np.nonzero(domain_mask == 1)] = imgList[2][nz - 1][np.nonzero(domain_mask == 1)]\n",
    "        boundary_roi[nz - 1][np.nonzero(boundary_mask == 1)] = imgList[2][nz - 1][np.nonzero(boundary_mask == 1)]\n",
    "        avg_z_domain = np.sum(domain_roi[nz - 1]) / np.count_nonzero(domain_mask != 0)\n",
    "        avg_z_boundary = np.sum(boundary_roi[nz - 1]) / np.count_nonzero(boundary_mask != 0)\n",
    "        domain_boundary_profile_list[0].append(avg_z_domain)\n",
    "        domain_boundary_profile_list[1].append(avg_z_boundary)\n",
    "        \n",
    "    axs[i // 4, i % 4].plot(two_theta_list[i], domain_boundary_profile_list[0], label='domain', color='red')\n",
    "    axs[i // 4, i % 4].plot(two_theta_list[i], domain_boundary_profile_list[1], label='boundary', color='blue')\n",
    "    axs[i // 4, i % 4].legend(handlelength=1, frameon=False)\n",
    "    axs[i // 4, i % 4].set_yticks([])\n",
    "    \n",
    "plt.show()"
   ],
   "metadata": {
    "collapsed": false
   },
   "id": "fa4fe0c11fb2a688"
  },
  {
   "cell_type": "code",
   "execution_count": null,
   "outputs": [],
   "source": [
    "boundary_strain = [[] for i in range(num_samples)]\n",
    "domain_strain = [[] for i in range(num_samples)]\n",
    "\n",
    "for i in range(num_samples):\n",
    "    imgList, imgName = get_imagelist(Folderlist[i])\n",
    "    contours = (feature.canny(imgList[4],sigma=1))^feature.canny(imgList[0],sigma=0.5)\n",
    "    domain_boundary = feature.canny(imgList[4], sigma=1)\n",
    "    particle_boundary = feature.canny(imgList[0], sigma=0.1)\n",
    "    # d-spacing strain map statistics\n",
    "    # j = 2\n",
    "    j = 1\n",
    "    for nx in range(np.shape(imgList[0])[0]):\n",
    "        for ny in range(np.shape(imgList[0])[1]):\n",
    "            if imgList[4][nx][ny] != 0 and domain_boundary[nx][ny]==0 and particle_boundary[nx][ny]==0 and imgList[0][nx][ny]!=0:\n",
    "                domain_strain[i].append(imgList[j][nx][ny])\n",
    "            if domain_boundary[nx][ny]!=0 and imgList[0][nx][ny]!=0 and imgList[4][nx][ny] !=0: \n",
    "                boundary_strain[i].append(imgList[j][nx][ny])\n",
    "\n",
    "# calculate strain difference and std difference between domains and boundaries\n",
    "boundary_strain_mean = [np.mean(boundary_strain[i]) for i in range(num_samples)]\n",
    "domain_strain_mean = [np.mean(domain_strain[i]) for i in range(num_samples)]\n",
    "strain_difference = np.array(domain_strain_mean)-np.array(boundary_strain_mean)\n",
    "boundary_strain_std = [np.std(boundary_strain[i]) for i in range(num_samples)]\n",
    "domain_strain_std = [np.std(domain_strain[i]) for i in range(num_samples)]\n",
    "std_difference =  np.array(domain_strain_std)-np.array(boundary_strain_std)"
   ],
   "metadata": {
    "collapsed": false
   },
   "id": "c1c758a72c765355"
  }
 ],
 "metadata": {
  "kernelspec": {
   "display_name": "Python 3",
   "language": "python",
   "name": "python3"
  },
  "language_info": {
   "codemirror_mode": {
    "name": "ipython",
    "version": 2
   },
   "file_extension": ".py",
   "mimetype": "text/x-python",
   "name": "python",
   "nbconvert_exporter": "python",
   "pygments_lexer": "ipython2",
   "version": "2.7.6"
  }
 },
 "nbformat": 4,
 "nbformat_minor": 5
}
