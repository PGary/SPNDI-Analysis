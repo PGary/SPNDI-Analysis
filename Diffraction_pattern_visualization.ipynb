{
 "cells": [
  {
   "cell_type": "code",
   "execution_count": null,
   "id": "initial_id",
   "metadata": {
    "collapsed": true
   },
   "outputs": [],
   "source": [
    "import os\n",
    "import numpy as np\n",
    "from skimage import io\n",
    "import glob\n",
    "import open3d as o3d\n",
    "import scipy.io\n",
    "from tqdm import tqdm\n",
    "import tifffile as tiff"
   ]
  },
  {
   "cell_type": "markdown",
   "source": [
    "## Load clustering map data and boundary mask .txt files"
   ],
   "metadata": {
    "collapsed": false
   },
   "id": "dd354e1632cbe129"
  },
  {
   "cell_type": "code",
   "execution_count": null,
   "outputs": [],
   "source": [
    "colormap_path = 'colormap.txt'\n",
    "boundary_mask_path =  'boundary_mask.txt'\n",
    "\n",
    "colormap = np.loadtxt(colormap_path)\n",
    "boundary_mask = np.loadtxt(boundary_mask_path)\n",
    "io.imshow(colormap)"
   ],
   "metadata": {
    "collapsed": false
   },
   "id": "512e2faad536ed6c"
  },
  {
   "cell_type": "markdown",
   "source": [
    "## Visualize diffraction pattern in point cloud format"
   ],
   "metadata": {
    "collapsed": false
   },
   "id": "a89d954ef5034bf6"
  },
  {
   "cell_type": "code",
   "execution_count": null,
   "outputs": [],
   "source": [
    "diffraction_pattern = 'diffraction_pattern.ply'\n",
    "\n",
    "pcd = o3d.io.read_point_cloud(diffraction_pattern)\n",
    "points = np.asarray(pcd.points)\n",
    "\n",
    "px = points[:,0]\n",
    "py = points[:,1]\n",
    "pz = points[:,2]\n",
    "o3d.visualization.draw_geometries([pcd])"
   ],
   "metadata": {
    "collapsed": false
   },
   "id": "f20e5d66fdea5f49"
  },
  {
   "cell_type": "markdown",
   "source": [
    "## Get averaged diffraction pattern of domain and boundary"
   ],
   "metadata": {
    "collapsed": false
   },
   "id": "6ee192de6e5972ff"
  },
  {
   "cell_type": "code",
   "execution_count": null,
   "outputs": [],
   "source": [
    "folder_path = '../mat/'\n",
    "mat_path = \"./mat/diffraction_pattern.mat\"\n",
    "diffraction_pattern_mat = np.asarray(scipy.io.loadmat(mat_path)['data_frame'])\n",
    "\n",
    "avg_diff_pattern_domain = np.zeros_like(diffraction_pattern_mat)\n",
    "avg_diff_pattern_boundary = np.zeros_like(diffraction_pattern_mat)\n",
    "\n",
    "mat_files = glob.glob(os.path.join(folder_path, '*.mat'))\n",
    "\n",
    "for mat_file in tqdm(mat_files):\n",
    "    base_name = os.path.basename(mat_file)\n",
    "    tokens = base_name.split('_')\n",
    "    xidx = int(tokens[1])\n",
    "    yidx = int(tokens[2].rsplit('.', 1)[0])\n",
    "    mat_temp = np.asarray(scipy.io.loadmat(os.path.join(folder_path,base_name))['data_frame'])\n",
    "\n",
    "    if boundary_mask[xidx, yidx] == 0:\n",
    "        avg_diff_pattern_domain += mat_temp\n",
    "\n",
    "    if boundary_mask[xidx, yidx] == 1:\n",
    "        avg_diff_pattern_boundary += mat_temp\n",
    "\n",
    "avg_diff_pattern_domain /= np.count_nonzero(boundary_mask == 0)\n",
    "avg_diff_pattern_boundary /= np.count_nonzero(boundary_mask == 1)\n",
    "\n",
    "tiff.imwrite(\"./average_domain_diffraction_pattern.tif\", avg_diff_pattern_domain.transpose(2, 1, 0))\n",
    "tiff.imwrite(\"./average_boundary_diffraction_pattern.tif\", avg_diff_pattern_boundary.transpose(2, 1, 0))"
   ],
   "metadata": {
    "collapsed": false
   },
   "id": "4a036e68dd38a854"
  },
  {
   "cell_type": "markdown",
   "source": [
    "## Get averaged pattern of every cluster"
   ],
   "metadata": {
    "collapsed": false
   },
   "id": "2c6ac6c68dd6e5f4"
  },
  {
   "cell_type": "code",
   "execution_count": null,
   "outputs": [],
   "source": [
    "folder_path = '../mat/'\n",
    "dim_x, dim_y, dim_z = diffraction_pattern_mat.shape\n",
    "\n",
    "roi_num = int(np.max(colormap))\n",
    "\n",
    "avg_diff_pattern_roi = np.zeros((dim_x, dim_y, dim_z, roi_num), dtype=float)\n",
    "mat_files = glob.glob(os.path.join(folder_path, '*.mat'))\n",
    "\n",
    "for mat_file in tqdm(mat_files, desc=\".mat file reading: \"):\n",
    "    base_name = os.path.basename(mat_file)\n",
    "    tokens = base_name.split('_')\n",
    "    xidx = int(tokens[1])\n",
    "    yidx = int(tokens[2].rsplit('.', 1)[0])\n",
    "    mat_temp = np.asarray(scipy.io.loadmat(os.path.join(folder_path, base_name))['data_frame'])\n",
    "    for i in range(roi_num):\n",
    "        if colormap[xidx, yidx] == i + 1:\n",
    "            avg_diff_pattern_roi[:,:,:,i] += mat_temp\n",
    "        else:\n",
    "            continue\n",
    "\n",
    "for i in tqdm(range(roi_num), desc=\"Image writting: \"):\n",
    "    if np.count_nonzero(colormap == i + 1) != 0:\n",
    "        avg_diff_pattern_roi[:,:,:,i] /= np.count_nonzero(colormap == i + 1)\n",
    "        tiff.imwrite(\"./average_diffraction_pattern_\" + str(i+1) + \".tif\", avg_diff_pattern_roi[:,:,:,i].transpose(2, 1, 0))"
   ],
   "metadata": {
    "collapsed": false
   },
   "id": "f734579994e068c1"
  },
  {
   "cell_type": "markdown",
   "source": [
    "## Plot projection diffraction pattern along theta axis."
   ],
   "metadata": {
    "collapsed": false
   },
   "id": "a0dfeaf385e2cf67"
  },
  {
   "cell_type": "code",
   "execution_count": null,
   "outputs": [],
   "source": [
    "for i in tqdm(range(roi_num),desc=\"Z projection: \"):\n",
    "    if np.count_nonzero(colormap == i + 1) != 0:\n",
    "        projection = np.average(avg_diff_pattern_roi[:,:,:,i], axis=2)\n",
    "        tiff.imwrite(\"./projection_diffraction_pattern_\" + str(i+1) + \".tif\", projection.transpose(1, 0))"
   ],
   "metadata": {
    "collapsed": false
   },
   "id": "3d172005a7568df4"
  }
 ],
 "metadata": {
  "kernelspec": {
   "display_name": "Python 3",
   "language": "python",
   "name": "python3"
  },
  "language_info": {
   "codemirror_mode": {
    "name": "ipython",
    "version": 2
   },
   "file_extension": ".py",
   "mimetype": "text/x-python",
   "name": "python",
   "nbconvert_exporter": "python",
   "pygments_lexer": "ipython2",
   "version": "2.7.6"
  }
 },
 "nbformat": 4,
 "nbformat_minor": 5
}
