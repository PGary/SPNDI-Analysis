{
 "cells": [
  {
   "cell_type": "code",
   "execution_count": null,
   "id": "initial_id",
   "metadata": {
    "collapsed": true
   },
   "outputs": [],
   "source": [
    "import os\n",
    "import matplotlib.pyplot as plt\n",
    "import numpy as np\n",
    "from skimage import io\n",
    "import seaborn as sns\n",
    "from matplotlib import cm\n",
    "import copy"
   ]
  },
  {
   "cell_type": "markdown",
   "source": [
    "## Load file folder"
   ],
   "metadata": {
    "collapsed": false
   },
   "id": "ab03a48f7ea6ab2d"
  },
  {
   "cell_type": "code",
   "execution_count": null,
   "outputs": [],
   "source": [
    "def get_filelist(directory):\n",
    "\n",
    "    filelist = []\n",
    "\n",
    "    for home,dirs,files in os.walk(directory):\n",
    "\n",
    "        for file in files:\n",
    "            filelist.append(os.path.join(home, file))\n",
    "\n",
    "    return filelist"
   ],
   "metadata": {
    "collapsed": false
   },
   "id": "f8e5bd08e6a3d592"
  },
  {
   "cell_type": "markdown",
   "source": [
    "## Get image list and image name"
   ],
   "metadata": {
    "collapsed": false
   },
   "id": "43da3b1203093d24"
  },
  {
   "cell_type": "code",
   "execution_count": null,
   "outputs": [],
   "source": [
    "def get_imagelist(directory):\n",
    "    filelist = []\n",
    "    imgList = []\n",
    "    imgName = []\n",
    "\n",
    "    for home,dirs,files in os.walk(directory):\n",
    "\n",
    "        for file in files:\n",
    "            filelist.append(os.path.join(home, file))\n",
    "            imgName.append(file)\n",
    "    for i in range(len(filelist)):\n",
    "        filetype = os.path.splitext(filelist[i])[-1]\n",
    "        if filetype == '.txt':\n",
    "            if i == 0:\n",
    "                temp = np.zeros((200,200))\n",
    "            else:\n",
    "                temp = np.zeros(np.shape(imgList[0]))\n",
    "            txtfile = np.loadtxt(filelist[i]).astype(np.int64)\n",
    "            for nx in range(np.shape(txtfile)[0]):\n",
    "                for ny in range(np.shape(txtfile)[1]):\n",
    "                    temp[nx][ny] =int(txtfile[nx][ny])\n",
    "            imgList.append(temp)\n",
    "        else:\n",
    "            imgList.append(np.array(io.imread(filelist[i])))\n",
    "    return imgList, imgName"
   ],
   "metadata": {
    "collapsed": false
   },
   "id": "7c52117870c42eb4"
  },
  {
   "cell_type": "markdown",
   "source": [
    "## Load strain map folders and get image lists"
   ],
   "metadata": {
    "collapsed": false
   },
   "id": "5a5f0ba8d9fcf0f3"
  },
  {
   "cell_type": "code",
   "execution_count": null,
   "outputs": [],
   "source": [
    "data_folder = './data_folder'\n",
    "Folderlist = []\n",
    "Foldername = []\n",
    "\n",
    "for home,dirs,files in os.walk(data_folder):\n",
    "    for dir in dirs:\n",
    "        Folderlist.append(os.path.join(home, dir))\n",
    "        Foldername.append(dir)\n",
    "print(Folderlist)\n",
    "print(Foldername)\n",
    "\n",
    "num_samples = len(Folderlist)\n",
    "print(num_samples)"
   ],
   "metadata": {
    "collapsed": false
   },
   "id": "8d689be6b8cc5adb"
  },
  {
   "cell_type": "markdown",
   "source": [
    "## Rocking curve angle of every LiCoO2 particles"
   ],
   "metadata": {
    "collapsed": false
   },
   "id": "31d3c355230aa642"
  },
  {
   "cell_type": "code",
   "execution_count": null,
   "outputs": [],
   "source": [
    "two_theta_list = [\n",
    "    np.linspace(10.1,12.1,21),\n",
    "    np.linspace(-27.4,-23.5,40),\n",
    "    np.linspace(-23.8,-19.8,41),\n",
    "    np.linspace(-27,-23,41),    \n",
    "    np.linspace(-39.7,-37.7,21),\n",
    "    np.linspace(-4.7,-4.26,23),\n",
    "    np.linspace(-7.5,-5.5,21),\n",
    "    np.linspace(-22.55,-19.25,34)\n",
    "]"
   ],
   "metadata": {
    "collapsed": false
   },
   "id": "134f17c1dbf503ff"
  },
  {
   "cell_type": "markdown",
   "source": [
    "## Plot rocking curve of every LiCoO2 particles"
   ],
   "metadata": {
    "collapsed": false
   },
   "id": "1dd8dae987c78cd1"
  },
  {
   "cell_type": "code",
   "execution_count": null,
   "outputs": [],
   "source": [
    "fig,axs = plt.subplots(nrows=2, ncols=4,figsize=(24, 6),sharex=True)\n",
    "\n",
    "for i in range(num_samples):\n",
    "    imgList, imgName = get_imagelist(Folderlist[i])\n",
    "    dim_z, dim_x, dim_y = imgList[1].shape\n",
    "    profile_list = []\n",
    "    \n",
    "    for z in range(dim_z):\n",
    "        profile_list.append(np.sum(imgList[1][z-1][np.nonzero(imgList[0]==1)])/np.count_nonzero(imgList[0]==1))\n",
    "        \n",
    "    axs[i//4,i%4].plot(two_theta_list[i], profile_list)\n",
    "    axs[i//4,i%4].set_yticks([])\n",
    "    \n",
    "plt.show()"
   ],
   "metadata": {
    "collapsed": false
   },
   "id": "1c45470d1081824c"
  },
  {
   "cell_type": "markdown",
   "source": [
    "## Mean and standard deviation of d-spacing and z-bending strain maps"
   ],
   "metadata": {
    "collapsed": false
   },
   "id": "327abc43abcb4710"
  },
  {
   "cell_type": "code",
   "execution_count": null,
   "outputs": [],
   "source": [
    "d_spacing_mean = []\n",
    "d_spacing_std = []\n",
    "z_bending_mean = []\n",
    "z_bending_std = []\n",
    "\n",
    "for i in range(num_samples):\n",
    "    imgList, imgName = get_imagelist(Folderlist[i])\n",
    "    \n",
    "    d_spacing_mean.append(np.sum(imgList[2][np.nonzero(imgList[0]==1)])/np.count_nonzero(imgList[0]==1))\n",
    "    d_spacing_std.append(np.std(imgList[2][np.nonzero(imgList[0]==1)]))\n",
    "    \n",
    "    z_bending_mean.append(np.sum(imgList[3][np.nonzero(imgList[0]==1)])/np.count_nonzero(imgList[0]==1))\n",
    "    z_bending_std.append(np.std(imgList[3][np.nonzero(imgList[0]==1)]))"
   ],
   "metadata": {
    "collapsed": false
   },
   "id": "7aafd51e7524e8be"
  },
  {
   "cell_type": "markdown",
   "source": [
    "## Calculate bias value of d-spacing and z-bending, and plot jointplot"
   ],
   "metadata": {
    "collapsed": false
   },
   "id": "6f0737df3b08adf1"
  },
  {
   "cell_type": "code",
   "execution_count": null,
   "outputs": [],
   "source": [
    "bias_d_spacing = d_spacing_mean\n",
    "bias_z_bending = z_bending_mean\n",
    "figzd, axeszd = plt.subplots(2, 4,figsize=(24,12),sharex=True,sharey=True)\n",
    "\n",
    "for i in range(num_samples):\n",
    "    imgList, imgName = get_imagelist(Folderlist[i])\n",
    "    \n",
    "    cmap = copy.copy(cm.get_cmap(\"RdBu_r\"))\n",
    "\n",
    "    dmin, dmax = -0.0015, 0.0015\n",
    "    zmin, zmax = -0.18, 0.18\n",
    "  \n",
    "    sns.set_style(\"white\")\n",
    "    sns.jointplot(x=(imgList[3][np.nonzero(imgList[0] != 0)].flatten().T - bias_z_bending[i]) / 0.18, y=(imgList[2][np.nonzero(imgList[0] != 0)].flatten().T - bias_d_spacing[i]) / 0.0015, kind=\"kde\", color='k', cmap=cmap, xlim=(-1, 1), ylim=(-1, 1), ax=axeszd[i//4, i%4])\n",
    "    \n",
    "    axeszd[i//4, i%4].set_xlim([-1, 1])\n",
    "    axeszd[i//4, i%4].set_ylim([-1, 1])\n",
    "    axeszd[i//4, i%4].set_xticks([-1, 0, 1])\n",
    "    axeszd[i//4, i%4].set_yticks([-1, 0, 1])\n",
    "    \n",
    "plt.tight_layout()\n",
    "plt.show()"
   ],
   "metadata": {
    "collapsed": false
   },
   "id": "fd4140f917be609d"
  }
 ],
 "metadata": {
  "kernelspec": {
   "display_name": "Python 3",
   "language": "python",
   "name": "python3"
  },
  "language_info": {
   "codemirror_mode": {
    "name": "ipython",
    "version": 2
   },
   "file_extension": ".py",
   "mimetype": "text/x-python",
   "name": "python",
   "nbconvert_exporter": "python",
   "pygments_lexer": "ipython2",
   "version": "2.7.6"
  }
 },
 "nbformat": 4,
 "nbformat_minor": 5
}
